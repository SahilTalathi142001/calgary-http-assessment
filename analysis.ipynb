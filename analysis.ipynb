{
  "cells": [
    {
      "cell_type": "markdown",
      "id": "f3551217",
      "metadata": {
        "id": "f3551217"
      },
      "source": [
        "# Web Server Log Analysis - Python Take-Home Assessment"
      ]
    },
    {
      "cell_type": "markdown",
      "id": "98eb0efa",
      "metadata": {
        "id": "98eb0efa"
      },
      "source": [
        "## Overview\n",
        "This assessment involves analyzing the Calgary HTTP dataset, which contains approximately one year's worth of HTTP requests to the University of Calgary's Computer Science web server. You'll work with real-world web server log data to extract meaningful insights and demonstrate your Python data analysis skills."
      ]
    },
    {
      "cell_type": "markdown",
      "id": "81debeba",
      "metadata": {
        "id": "81debeba"
      },
      "source": [
        "## Part 1: Data Loading and Cleaning"
      ]
    },
    {
      "cell_type": "markdown",
      "id": "9e728b83",
      "metadata": {
        "id": "9e728b83"
      },
      "source": [
        "### Instructions\n",
        "\n",
        "* Work in the cells below - You can add as many cells as needed for data loading, cleaning, and exploration\n",
        "* Import required libraries\n",
        "* Implement data loading and cleaning - Create functions to download, parse, and clean the log data\n",
        "* Explore the data - Understand the structure and identify any data quality issues"
      ]
    },
    {
      "cell_type": "code",
      "execution_count": 72,
      "id": "b2c05313",
      "metadata": {
        "id": "b2c05313"
      },
      "outputs": [],
      "source": [
        "# You can write your code here for data loading, cleaning, and exploration. Add cells as necessary.\n",
        "import gzip\n",
        "import re\n",
        "import urllib.request\n",
        "from datetime import datetime\n",
        "import pandas as pd"
      ]
    },
    {
      "cell_type": "code",
      "source": [
        "url = \"ftp://ita.ee.lbl.gov/traces/calgary_access_log.gz\"\n",
        "file_path = \"calgary_access_log.gz\"\n",
        "urllib.request.urlretrieve(url, file_path)\n",
        "\n",
        "# Read log file\n",
        "try:\n",
        "  with gzip.open(file_path, 'rt', encoding='latin1') as f:\n",
        "    raw_logs = f.readlines()\n",
        "except FileNotFoundError:\n",
        "  print(f\"File '{file_path}' not found.\")\n",
        "except Exception as e:\n",
        "  print(f\"An error occurred: {e}\")"
      ],
      "metadata": {
        "id": "z1_SdhAiRoBF"
      },
      "id": "z1_SdhAiRoBF",
      "execution_count": 73,
      "outputs": []
    },
    {
      "cell_type": "code",
      "source": [
        "# get the pattern using the standard Apache Common Log Format\n",
        "pattern = re.compile(\n",
        "    r'(\\S+) (\\S+) (\\S+) \\[(.*?)\\] \"(\\S+)? (.*?) (\\S+)?\" (\\d{3}) (\\S+)'\n",
        ")\n",
        "\n",
        "# Generate clean data\n",
        "data = []\n",
        "\n",
        "for line in raw_logs:\n",
        "    match = pattern.match(line)\n",
        "    if not match:\n",
        "        continue\n",
        "    host, _, _, timestamp, method, filename, protocol, status, bytes_ = match.groups()\n",
        "    try:\n",
        "        dt = datetime.strptime(timestamp.split()[0], \"%d/%b/%Y:%H:%M:%S\")\n",
        "    except ValueError:\n",
        "        continue\n",
        "    data.append({\n",
        "        'host': host,\n",
        "        'timestamp': dt,\n",
        "        'date': dt.strftime('%d-%b-%Y'),\n",
        "        'hour': dt.hour,\n",
        "        'method': method,\n",
        "        'filename': filename,\n",
        "        'status': int(status),\n",
        "        'bytes': int(bytes_) if bytes_.isdigit() else 0\n",
        "    })\n",
        "\n",
        "# Converting list of dictionaries into DataFrame\n",
        "df = pd.DataFrame(data)\n",
        "df.head()\n"
      ],
      "metadata": {
        "id": "jgPf3qnlR5rN",
        "outputId": "1ed79750-da5e-43de-a4f7-6dc06ea99bdb",
        "colab": {
          "base_uri": "https://localhost:8080/",
          "height": 206
        }
      },
      "id": "jgPf3qnlR5rN",
      "execution_count": 68,
      "outputs": [
        {
          "output_type": "execute_result",
          "data": {
            "text/plain": [
              "    host           timestamp         date  hour method    filename  status  \\\n",
              "0  local 1994-10-24 13:41:41  24-Oct-1994    13    GET  index.html     200   \n",
              "1  local 1994-10-24 13:41:41  24-Oct-1994    13    GET       1.gif     200   \n",
              "2  local 1994-10-24 13:43:13  24-Oct-1994    13    GET  index.html     200   \n",
              "3  local 1994-10-24 13:43:14  24-Oct-1994    13    GET       2.gif     200   \n",
              "4  local 1994-10-24 13:43:15  24-Oct-1994    13    GET       3.gif     200   \n",
              "\n",
              "   bytes  \n",
              "0    150  \n",
              "1   1210  \n",
              "2   3185  \n",
              "3   2555  \n",
              "4  36403  "
            ],
            "text/html": [
              "\n",
              "  <div id=\"df-7c8ad52c-9be1-4c23-a885-15cf3967b34c\" class=\"colab-df-container\">\n",
              "    <div>\n",
              "<style scoped>\n",
              "    .dataframe tbody tr th:only-of-type {\n",
              "        vertical-align: middle;\n",
              "    }\n",
              "\n",
              "    .dataframe tbody tr th {\n",
              "        vertical-align: top;\n",
              "    }\n",
              "\n",
              "    .dataframe thead th {\n",
              "        text-align: right;\n",
              "    }\n",
              "</style>\n",
              "<table border=\"1\" class=\"dataframe\">\n",
              "  <thead>\n",
              "    <tr style=\"text-align: right;\">\n",
              "      <th></th>\n",
              "      <th>host</th>\n",
              "      <th>timestamp</th>\n",
              "      <th>date</th>\n",
              "      <th>hour</th>\n",
              "      <th>method</th>\n",
              "      <th>filename</th>\n",
              "      <th>status</th>\n",
              "      <th>bytes</th>\n",
              "    </tr>\n",
              "  </thead>\n",
              "  <tbody>\n",
              "    <tr>\n",
              "      <th>0</th>\n",
              "      <td>local</td>\n",
              "      <td>1994-10-24 13:41:41</td>\n",
              "      <td>24-Oct-1994</td>\n",
              "      <td>13</td>\n",
              "      <td>GET</td>\n",
              "      <td>index.html</td>\n",
              "      <td>200</td>\n",
              "      <td>150</td>\n",
              "    </tr>\n",
              "    <tr>\n",
              "      <th>1</th>\n",
              "      <td>local</td>\n",
              "      <td>1994-10-24 13:41:41</td>\n",
              "      <td>24-Oct-1994</td>\n",
              "      <td>13</td>\n",
              "      <td>GET</td>\n",
              "      <td>1.gif</td>\n",
              "      <td>200</td>\n",
              "      <td>1210</td>\n",
              "    </tr>\n",
              "    <tr>\n",
              "      <th>2</th>\n",
              "      <td>local</td>\n",
              "      <td>1994-10-24 13:43:13</td>\n",
              "      <td>24-Oct-1994</td>\n",
              "      <td>13</td>\n",
              "      <td>GET</td>\n",
              "      <td>index.html</td>\n",
              "      <td>200</td>\n",
              "      <td>3185</td>\n",
              "    </tr>\n",
              "    <tr>\n",
              "      <th>3</th>\n",
              "      <td>local</td>\n",
              "      <td>1994-10-24 13:43:14</td>\n",
              "      <td>24-Oct-1994</td>\n",
              "      <td>13</td>\n",
              "      <td>GET</td>\n",
              "      <td>2.gif</td>\n",
              "      <td>200</td>\n",
              "      <td>2555</td>\n",
              "    </tr>\n",
              "    <tr>\n",
              "      <th>4</th>\n",
              "      <td>local</td>\n",
              "      <td>1994-10-24 13:43:15</td>\n",
              "      <td>24-Oct-1994</td>\n",
              "      <td>13</td>\n",
              "      <td>GET</td>\n",
              "      <td>3.gif</td>\n",
              "      <td>200</td>\n",
              "      <td>36403</td>\n",
              "    </tr>\n",
              "  </tbody>\n",
              "</table>\n",
              "</div>\n",
              "    <div class=\"colab-df-buttons\">\n",
              "\n",
              "  <div class=\"colab-df-container\">\n",
              "    <button class=\"colab-df-convert\" onclick=\"convertToInteractive('df-7c8ad52c-9be1-4c23-a885-15cf3967b34c')\"\n",
              "            title=\"Convert this dataframe to an interactive table.\"\n",
              "            style=\"display:none;\">\n",
              "\n",
              "  <svg xmlns=\"http://www.w3.org/2000/svg\" height=\"24px\" viewBox=\"0 -960 960 960\">\n",
              "    <path d=\"M120-120v-720h720v720H120Zm60-500h600v-160H180v160Zm220 220h160v-160H400v160Zm0 220h160v-160H400v160ZM180-400h160v-160H180v160Zm440 0h160v-160H620v160ZM180-180h160v-160H180v160Zm440 0h160v-160H620v160Z\"/>\n",
              "  </svg>\n",
              "    </button>\n",
              "\n",
              "  <style>\n",
              "    .colab-df-container {\n",
              "      display:flex;\n",
              "      gap: 12px;\n",
              "    }\n",
              "\n",
              "    .colab-df-convert {\n",
              "      background-color: #E8F0FE;\n",
              "      border: none;\n",
              "      border-radius: 50%;\n",
              "      cursor: pointer;\n",
              "      display: none;\n",
              "      fill: #1967D2;\n",
              "      height: 32px;\n",
              "      padding: 0 0 0 0;\n",
              "      width: 32px;\n",
              "    }\n",
              "\n",
              "    .colab-df-convert:hover {\n",
              "      background-color: #E2EBFA;\n",
              "      box-shadow: 0px 1px 2px rgba(60, 64, 67, 0.3), 0px 1px 3px 1px rgba(60, 64, 67, 0.15);\n",
              "      fill: #174EA6;\n",
              "    }\n",
              "\n",
              "    .colab-df-buttons div {\n",
              "      margin-bottom: 4px;\n",
              "    }\n",
              "\n",
              "    [theme=dark] .colab-df-convert {\n",
              "      background-color: #3B4455;\n",
              "      fill: #D2E3FC;\n",
              "    }\n",
              "\n",
              "    [theme=dark] .colab-df-convert:hover {\n",
              "      background-color: #434B5C;\n",
              "      box-shadow: 0px 1px 3px 1px rgba(0, 0, 0, 0.15);\n",
              "      filter: drop-shadow(0px 1px 2px rgba(0, 0, 0, 0.3));\n",
              "      fill: #FFFFFF;\n",
              "    }\n",
              "  </style>\n",
              "\n",
              "    <script>\n",
              "      const buttonEl =\n",
              "        document.querySelector('#df-7c8ad52c-9be1-4c23-a885-15cf3967b34c button.colab-df-convert');\n",
              "      buttonEl.style.display =\n",
              "        google.colab.kernel.accessAllowed ? 'block' : 'none';\n",
              "\n",
              "      async function convertToInteractive(key) {\n",
              "        const element = document.querySelector('#df-7c8ad52c-9be1-4c23-a885-15cf3967b34c');\n",
              "        const dataTable =\n",
              "          await google.colab.kernel.invokeFunction('convertToInteractive',\n",
              "                                                    [key], {});\n",
              "        if (!dataTable) return;\n",
              "\n",
              "        const docLinkHtml = 'Like what you see? Visit the ' +\n",
              "          '<a target=\"_blank\" href=https://colab.research.google.com/notebooks/data_table.ipynb>data table notebook</a>'\n",
              "          + ' to learn more about interactive tables.';\n",
              "        element.innerHTML = '';\n",
              "        dataTable['output_type'] = 'display_data';\n",
              "        await google.colab.output.renderOutput(dataTable, element);\n",
              "        const docLink = document.createElement('div');\n",
              "        docLink.innerHTML = docLinkHtml;\n",
              "        element.appendChild(docLink);\n",
              "      }\n",
              "    </script>\n",
              "  </div>\n",
              "\n",
              "\n",
              "    <div id=\"df-6282b0c2-d21a-4ab7-bc75-a53fdcc33022\">\n",
              "      <button class=\"colab-df-quickchart\" onclick=\"quickchart('df-6282b0c2-d21a-4ab7-bc75-a53fdcc33022')\"\n",
              "                title=\"Suggest charts\"\n",
              "                style=\"display:none;\">\n",
              "\n",
              "<svg xmlns=\"http://www.w3.org/2000/svg\" height=\"24px\"viewBox=\"0 0 24 24\"\n",
              "     width=\"24px\">\n",
              "    <g>\n",
              "        <path d=\"M19 3H5c-1.1 0-2 .9-2 2v14c0 1.1.9 2 2 2h14c1.1 0 2-.9 2-2V5c0-1.1-.9-2-2-2zM9 17H7v-7h2v7zm4 0h-2V7h2v10zm4 0h-2v-4h2v4z\"/>\n",
              "    </g>\n",
              "</svg>\n",
              "      </button>\n",
              "\n",
              "<style>\n",
              "  .colab-df-quickchart {\n",
              "      --bg-color: #E8F0FE;\n",
              "      --fill-color: #1967D2;\n",
              "      --hover-bg-color: #E2EBFA;\n",
              "      --hover-fill-color: #174EA6;\n",
              "      --disabled-fill-color: #AAA;\n",
              "      --disabled-bg-color: #DDD;\n",
              "  }\n",
              "\n",
              "  [theme=dark] .colab-df-quickchart {\n",
              "      --bg-color: #3B4455;\n",
              "      --fill-color: #D2E3FC;\n",
              "      --hover-bg-color: #434B5C;\n",
              "      --hover-fill-color: #FFFFFF;\n",
              "      --disabled-bg-color: #3B4455;\n",
              "      --disabled-fill-color: #666;\n",
              "  }\n",
              "\n",
              "  .colab-df-quickchart {\n",
              "    background-color: var(--bg-color);\n",
              "    border: none;\n",
              "    border-radius: 50%;\n",
              "    cursor: pointer;\n",
              "    display: none;\n",
              "    fill: var(--fill-color);\n",
              "    height: 32px;\n",
              "    padding: 0;\n",
              "    width: 32px;\n",
              "  }\n",
              "\n",
              "  .colab-df-quickchart:hover {\n",
              "    background-color: var(--hover-bg-color);\n",
              "    box-shadow: 0 1px 2px rgba(60, 64, 67, 0.3), 0 1px 3px 1px rgba(60, 64, 67, 0.15);\n",
              "    fill: var(--button-hover-fill-color);\n",
              "  }\n",
              "\n",
              "  .colab-df-quickchart-complete:disabled,\n",
              "  .colab-df-quickchart-complete:disabled:hover {\n",
              "    background-color: var(--disabled-bg-color);\n",
              "    fill: var(--disabled-fill-color);\n",
              "    box-shadow: none;\n",
              "  }\n",
              "\n",
              "  .colab-df-spinner {\n",
              "    border: 2px solid var(--fill-color);\n",
              "    border-color: transparent;\n",
              "    border-bottom-color: var(--fill-color);\n",
              "    animation:\n",
              "      spin 1s steps(1) infinite;\n",
              "  }\n",
              "\n",
              "  @keyframes spin {\n",
              "    0% {\n",
              "      border-color: transparent;\n",
              "      border-bottom-color: var(--fill-color);\n",
              "      border-left-color: var(--fill-color);\n",
              "    }\n",
              "    20% {\n",
              "      border-color: transparent;\n",
              "      border-left-color: var(--fill-color);\n",
              "      border-top-color: var(--fill-color);\n",
              "    }\n",
              "    30% {\n",
              "      border-color: transparent;\n",
              "      border-left-color: var(--fill-color);\n",
              "      border-top-color: var(--fill-color);\n",
              "      border-right-color: var(--fill-color);\n",
              "    }\n",
              "    40% {\n",
              "      border-color: transparent;\n",
              "      border-right-color: var(--fill-color);\n",
              "      border-top-color: var(--fill-color);\n",
              "    }\n",
              "    60% {\n",
              "      border-color: transparent;\n",
              "      border-right-color: var(--fill-color);\n",
              "    }\n",
              "    80% {\n",
              "      border-color: transparent;\n",
              "      border-right-color: var(--fill-color);\n",
              "      border-bottom-color: var(--fill-color);\n",
              "    }\n",
              "    90% {\n",
              "      border-color: transparent;\n",
              "      border-bottom-color: var(--fill-color);\n",
              "    }\n",
              "  }\n",
              "</style>\n",
              "\n",
              "      <script>\n",
              "        async function quickchart(key) {\n",
              "          const quickchartButtonEl =\n",
              "            document.querySelector('#' + key + ' button');\n",
              "          quickchartButtonEl.disabled = true;  // To prevent multiple clicks.\n",
              "          quickchartButtonEl.classList.add('colab-df-spinner');\n",
              "          try {\n",
              "            const charts = await google.colab.kernel.invokeFunction(\n",
              "                'suggestCharts', [key], {});\n",
              "          } catch (error) {\n",
              "            console.error('Error during call to suggestCharts:', error);\n",
              "          }\n",
              "          quickchartButtonEl.classList.remove('colab-df-spinner');\n",
              "          quickchartButtonEl.classList.add('colab-df-quickchart-complete');\n",
              "        }\n",
              "        (() => {\n",
              "          let quickchartButtonEl =\n",
              "            document.querySelector('#df-6282b0c2-d21a-4ab7-bc75-a53fdcc33022 button');\n",
              "          quickchartButtonEl.style.display =\n",
              "            google.colab.kernel.accessAllowed ? 'block' : 'none';\n",
              "        })();\n",
              "      </script>\n",
              "    </div>\n",
              "\n",
              "    </div>\n",
              "  </div>\n"
            ],
            "application/vnd.google.colaboratory.intrinsic+json": {
              "type": "dataframe",
              "variable_name": "df"
            }
          },
          "metadata": {},
          "execution_count": 68
        }
      ]
    },
    {
      "cell_type": "code",
      "source": [
        "# Extracting Extension from Filename\n",
        "df['extension'] = df['filename'].str.extract(r'\\.([a-zA-Z0-9]+)$', expand=False).fillna('NA')\n",
        "\n",
        "# Converting datatype appropriately\n",
        "df = df.astype({\n",
        "    'host': 'string',\n",
        "    'method': 'string',\n",
        "    'filename': 'string',\n",
        "    'extension': 'string',\n",
        "    'date': 'string'\n",
        "})\n",
        "\n",
        "df['filename']= df['filename'].replace('', pd.NA)"
      ],
      "metadata": {
        "id": "LLvz3NavX-Xf"
      },
      "id": "LLvz3NavX-Xf",
      "execution_count": 69,
      "outputs": []
    },
    {
      "cell_type": "markdown",
      "id": "8e491a4e",
      "metadata": {
        "id": "8e491a4e"
      },
      "source": [
        "## ⚠️ IMPORTANT: Template Questions Section\n",
        "**DO NOT MODIFY THE TEMPLATE BELOW THIS POINT**\n",
        "\n",
        "The following section contains the assessment questions. You may add cells above this section for data loading, cleaning, and exploration, but do not modify the function signatures or structure of the questions below."
      ]
    },
    {
      "cell_type": "markdown",
      "id": "80da5c6e",
      "metadata": {
        "id": "80da5c6e"
      },
      "source": [
        "## Part 2: Analysis Questions"
      ]
    },
    {
      "cell_type": "markdown",
      "id": "38f1ce65",
      "metadata": {
        "id": "38f1ce65"
      },
      "source": [
        "### Instructions\n",
        "\n",
        "* Implement each function according to its docstring specifications\n",
        "* Use the cleaned data you prepared in Part 1\n",
        "* Ensure your functions return the exact data types specified\n",
        "* Test your functions to verify they work correctly\n",
        "* You may add helper functions, but keep the main function signatures unchanged"
      ]
    },
    {
      "cell_type": "markdown",
      "id": "afff13fe",
      "metadata": {
        "vscode": {
          "languageId": "plaintext"
        },
        "id": "afff13fe"
      },
      "source": [
        "### Q1: Count of total log records"
      ]
    },
    {
      "cell_type": "code",
      "execution_count": 74,
      "id": "f6264dd7",
      "metadata": {
        "id": "f6264dd7",
        "colab": {
          "base_uri": "https://localhost:8080/"
        },
        "outputId": "a89aae59-4305-4d2e-ad43-504ac2c2ad2f"
      },
      "outputs": [
        {
          "output_type": "stream",
          "name": "stdout",
          "text": [
            "Answer 1:\n",
            "724039\n"
          ]
        }
      ],
      "source": [
        "def total_log_records() -> int:\n",
        "    \"\"\"\n",
        "    Q1: Count of total log records.\n",
        "\n",
        "    Objective:\n",
        "        Determine the total number of HTTP log entries in the dataset.\n",
        "        Each line in the log file represents one HTTP request.\n",
        "\n",
        "    Returns:\n",
        "        int: Total number of log entries.\n",
        "    \"\"\"\n",
        "\n",
        "    # TODO: Implement logic to count log records\n",
        "    total_logs = len(df)\n",
        "    return total_logs  # Placeholder return\n",
        "\n",
        "\n",
        "answer1 = total_log_records()\n",
        "print(\"Answer 1:\")\n",
        "print(answer1)"
      ]
    },
    {
      "cell_type": "markdown",
      "id": "78c5141e",
      "metadata": {
        "vscode": {
          "languageId": "plaintext"
        },
        "id": "78c5141e"
      },
      "source": [
        "### Q2: Count of unique hosts"
      ]
    },
    {
      "cell_type": "code",
      "execution_count": 75,
      "id": "fcbccae5",
      "metadata": {
        "id": "fcbccae5",
        "colab": {
          "base_uri": "https://localhost:8080/"
        },
        "outputId": "b700a2d0-3125-48bb-d670-26c868bd04c4"
      },
      "outputs": [
        {
          "output_type": "stream",
          "name": "stdout",
          "text": [
            "Answer 2:\n",
            "2\n"
          ]
        }
      ],
      "source": [
        "def unique_host_count() -> int:\n",
        "    \"\"\"\n",
        "    Q2: Count of unique hosts.\n",
        "\n",
        "    Objective:\n",
        "        Determine how many distinct hosts accessed the server.\n",
        "\n",
        "    Returns:\n",
        "        int: Number of unique hosts.\n",
        "    \"\"\"\n",
        "\n",
        "    # TODO: Implement logic to count unique hosts\n",
        "    unique_hosts = df['host'].nunique()\n",
        "    return unique_hosts  # Placeholder return\n",
        "\n",
        "\n",
        "answer2 = unique_host_count()\n",
        "print(\"Answer 2:\")\n",
        "print(answer2)"
      ]
    },
    {
      "cell_type": "markdown",
      "id": "f2c224d5",
      "metadata": {
        "vscode": {
          "languageId": "plaintext"
        },
        "id": "f2c224d5"
      },
      "source": [
        "### Q3: Date-wise unique filename counts"
      ]
    },
    {
      "cell_type": "code",
      "execution_count": 76,
      "id": "ac11c680",
      "metadata": {
        "id": "ac11c680",
        "colab": {
          "base_uri": "https://localhost:8080/"
        },
        "outputId": "6c5061e6-ffda-4325-b621-9e290e6c6e8d"
      },
      "outputs": [
        {
          "output_type": "stream",
          "name": "stdout",
          "text": [
            "Answer 3:\n",
            "{'01-Apr-1995': 436, '01-Aug-1995': 674, '01-Dec-1994': 271, '01-Feb-1995': 622, '01-Jan-1995': 88, '01-Jul-1995': 387, '01-Jun-1995': 590, '01-Mar-1995': 582, '01-May-1995': 467, '01-Nov-1994': 412, '01-Oct-1995': 554, '01-Sep-1995': 330, '02-Apr-1995': 467, '02-Aug-1995': 857, '02-Dec-1994': 325, '02-Feb-1995': 524, '02-Jan-1995': 141, '02-Jul-1995': 399, '02-Jun-1995': 515, '02-Mar-1995': 600, '02-May-1995': 701, '02-Nov-1994': 427, '02-Oct-1995': 872, '02-Sep-1995': 353, '03-Apr-1995': 796, '03-Aug-1995': 585, '03-Dec-1994': 189, '03-Feb-1995': 570, '03-Jan-1995': 311, '03-Jul-1995': 439, '03-Jun-1995': 398, '03-Mar-1995': 505, '03-May-1995': 589, '03-Nov-1994': 461, '03-Oct-1995': 852, '03-Sep-1995': 214, '04-Apr-1995': 822, '04-Aug-1995': 717, '04-Dec-1994': 212, '04-Feb-1995': 562, '04-Jan-1995': 324, '04-Jul-1995': 613, '04-Jun-1995': 353, '04-Mar-1995': 403, '04-May-1995': 687, '04-Nov-1994': 404, '04-Oct-1995': 915, '04-Sep-1995': 342, '05-Apr-1995': 891, '05-Aug-1995': 510, '05-Dec-1994': 352, '05-Feb-1995': 485, '05-Jan-1995': 285, '05-Jul-1995': 608, '05-Jun-1995': 494, '05-Mar-1995': 472, '05-May-1995': 609, '05-Nov-1994': 194, '05-Oct-1995': 848, '05-Sep-1995': 413, '06-Apr-1995': 678, '06-Aug-1995': 450, '06-Dec-1994': 298, '06-Feb-1995': 650, '06-Jan-1995': 207, '06-Jul-1995': 525, '06-Jun-1995': 664, '06-Mar-1995': 634, '06-May-1995': 517, '06-Nov-1994': 219, '06-Oct-1995': 871, '06-Sep-1995': 549, '07-Apr-1995': 776, '07-Aug-1995': 610, '07-Dec-1994': 384, '07-Feb-1995': 697, '07-Jan-1995': 153, '07-Jul-1995': 428, '07-Jun-1995': 488, '07-Mar-1995': 767, '07-May-1995': 725, '07-Nov-1994': 365, '07-Oct-1995': 468, '07-Sep-1995': 592, '08-Apr-1995': 542, '08-Aug-1995': 656, '08-Dec-1994': 346, '08-Feb-1995': 629, '08-Jan-1995': 209, '08-Jul-1995': 277, '08-Jun-1995': 644, '08-Mar-1995': 609, '08-May-1995': 656, '08-Nov-1994': 269, '08-Oct-1995': 515, '08-Sep-1995': 756, '09-Apr-1995': 626, '09-Aug-1995': 701, '09-Dec-1994': 373, '09-Feb-1995': 712, '09-Jan-1995': 364, '09-Jul-1995': 233, '09-Jun-1995': 468, '09-Mar-1995': 687, '09-May-1995': 775, '09-Nov-1994': 344, '09-Oct-1995': 745, '09-Sep-1995': 408, '10-Apr-1995': 752, '10-Aug-1995': 637, '10-Dec-1994': 150, '10-Feb-1995': 730, '10-Jan-1995': 372, '10-Jul-1995': 504, '10-Jun-1995': 328, '10-Mar-1995': 705, '10-May-1995': 794, '10-Nov-1994': 361, '10-Oct-1995': 843, '10-Sep-1995': 457, '11-Apr-1995': 816, '11-Aug-1995': 455, '11-Dec-1994': 202, '11-Feb-1995': 359, '11-Jan-1995': 364, '11-Jul-1995': 571, '11-Jun-1995': 299, '11-Mar-1995': 468, '11-May-1995': 600, '11-Nov-1994': 297, '11-Oct-1995': 719, '11-Sep-1995': 721, '12-Apr-1995': 888, '12-Aug-1995': 342, '12-Dec-1994': 403, '12-Feb-1995': 500, '12-Jan-1995': 463, '12-Jul-1995': 469, '12-Jun-1995': 521, '12-Mar-1995': 479, '12-May-1995': 469, '12-Nov-1994': 174, '12-Sep-1995': 721, '13-Apr-1995': 614, '13-Aug-1995': 465, '13-Dec-1994': 383, '13-Feb-1995': 675, '13-Jan-1995': 427, '13-Jul-1995': 501, '13-Jun-1995': 467, '13-Mar-1995': 856, '13-May-1995': 289, '13-Nov-1994': 186, '13-Sep-1995': 776, '14-Apr-1995': 353, '14-Aug-1995': 593, '14-Dec-1994': 305, '14-Feb-1995': 707, '14-Jan-1995': 189, '14-Jul-1995': 553, '14-Jun-1995': 591, '14-Mar-1995': 780, '14-May-1995': 326, '14-Nov-1994': 331, '14-Sep-1995': 723, '15-Apr-1995': 418, '15-Aug-1995': 484, '15-Dec-1994': 282, '15-Feb-1995': 796, '15-Jan-1995': 218, '15-Jul-1995': 386, '15-Jun-1995': 481, '15-Mar-1995': 909, '15-May-1995': 584, '15-Nov-1994': 331, '15-Sep-1995': 715, '16-Apr-1995': 434, '16-Aug-1995': 604, '16-Dec-1994': 383, '16-Feb-1995': 664, '16-Jan-1995': 454, '16-Jul-1995': 299, '16-Jun-1995': 531, '16-Mar-1995': 603, '16-May-1995': 432, '16-Nov-1994': 394, '16-Sep-1995': 566, '17-Apr-1995': 446, '17-Aug-1995': 539, '17-Dec-1994': 297, '17-Feb-1995': 569, '17-Jan-1995': 381, '17-Jul-1995': 571, '17-Jun-1995': 385, '17-Mar-1995': 513, '17-May-1995': 509, '17-Nov-1994': 441, '17-Sep-1995': 476, '18-Apr-1995': 452, '18-Aug-1995': 494, '18-Dec-1994': 324, '18-Feb-1995': 549, '18-Jan-1995': 394, '18-Jul-1995': 559, '18-Jun-1995': 360, '18-Mar-1995': 418, '18-May-1995': 528, '18-Nov-1994': 404, '18-Sep-1995': 659, '19-Apr-1995': 704, '19-Aug-1995': 379, '19-Dec-1994': 365, '19-Feb-1995': 381, '19-Jan-1995': 479, '19-Jul-1995': 473, '19-Jun-1995': 614, '19-Mar-1995': 362, '19-May-1995': 499, '19-Nov-1994': 195, '19-Sep-1995': 739, '20-Apr-1995': 588, '20-Aug-1995': 397, '20-Dec-1994': 317, '20-Feb-1995': 495, '20-Jan-1995': 503, '20-Jul-1995': 569, '20-Jun-1995': 531, '20-Mar-1995': 683, '20-May-1995': 254, '20-Nov-1994': 263, '20-Sep-1995': 835, '21-Apr-1995': 713, '21-Aug-1995': 635, '21-Dec-1994': 280, '21-Feb-1995': 461, '21-Jan-1995': 259, '21-Jul-1995': 649, '21-Jun-1995': 625, '21-Mar-1995': 742, '21-May-1995': 288, '21-Nov-1994': 337, '21-Sep-1995': 801, '22-Apr-1995': 435, '22-Aug-1995': 540, '22-Dec-1994': 268, '22-Feb-1995': 708, '22-Jan-1995': 278, '22-Jul-1995': 445, '22-Jun-1995': 632, '22-Mar-1995': 620, '22-May-1995': 477, '22-Nov-1994': 359, '22-Sep-1995': 617, '23-Apr-1995': 332, '23-Aug-1995': 662, '23-Dec-1994': 157, '23-Feb-1995': 601, '23-Jan-1995': 440, '23-Jul-1995': 501, '23-Jun-1995': 562, '23-Mar-1995': 750, '23-May-1995': 565, '23-Nov-1994': 322, '23-Sep-1995': 505, '24-Apr-1995': 529, '24-Aug-1995': 581, '24-Dec-1994': 66, '24-Feb-1995': 512, '24-Jan-1995': 423, '24-Jul-1995': 567, '24-Jun-1995': 398, '24-Mar-1995': 519, '24-May-1995': 490, '24-Nov-1994': 366, '24-Oct-1994': 228, '24-Sep-1995': 596, '25-Apr-1995': 557, '25-Aug-1995': 598, '25-Dec-1994': 71, '25-Feb-1995': 470, '25-Jan-1995': 415, '25-Jul-1995': 592, '25-Jun-1995': 572, '25-Mar-1995': 617, '25-May-1995': 494, '25-Nov-1994': 325, '25-Oct-1994': 319, '25-Sep-1995': 727, '26-Apr-1995': 647, '26-Aug-1995': 398, '26-Dec-1994': 102, '26-Feb-1995': 394, '26-Jan-1995': 392, '26-Jul-1995': 602, '26-Jun-1995': 638, '26-Mar-1995': 537, '26-May-1995': 426, '26-Nov-1994': 221, '26-Oct-1994': 377, '26-Sep-1995': 871, '27-Apr-1995': 616, '27-Aug-1995': 439, '27-Dec-1994': 201, '27-Feb-1995': 530, '27-Jan-1995': 446, '27-Jul-1995': 617, '27-Jun-1995': 518, '27-Mar-1995': 838, '27-May-1995': 247, '27-Nov-1994': 188, '27-Oct-1994': 386, '27-Sep-1995': 831, '28-Apr-1995': 637, '28-Aug-1995': 552, '28-Dec-1994': 129, '28-Feb-1995': 476, '28-Jan-1995': 405, '28-Jul-1995': 566, '28-Jun-1995': 583, '28-Mar-1995': 851, '28-May-1995': 205, '28-Nov-1994': 341, '28-Oct-1994': 399, '28-Sep-1995': 871, '29-Apr-1995': 449, '29-Aug-1995': 513, '29-Dec-1994': 128, '29-Jan-1995': 370, '29-Jul-1995': 322, '29-Jun-1995': 473, '29-Mar-1995': 898, '29-May-1995': 466, '29-Nov-1994': 449, '29-Oct-1994': 254, '29-Sep-1995': 842, '30-Apr-1995': 277, '30-Aug-1995': 595, '30-Dec-1994': 133, '30-Jan-1995': 583, '30-Jul-1995': 486, '30-Jun-1995': 461, '30-Mar-1995': 863, '30-May-1995': 555, '30-Nov-1994': 356, '30-Oct-1994': 236, '30-Sep-1995': 652, '31-Aug-1995': 513, '31-Dec-1994': 94, '31-Jan-1995': 495, '31-Jul-1995': 624, '31-Mar-1995': 816, '31-May-1995': 571, '31-Oct-1994': 362}\n"
          ]
        }
      ],
      "source": [
        "def datewise_unique_filename_counts() -> dict[str, int]:\n",
        "    \"\"\"\n",
        "    Q3: Date-wise unique filename counts.\n",
        "\n",
        "    Objective:\n",
        "        For each date, count the number of unique filenames that accessed the server.\n",
        "        The date should be in 'dd-MMM-yyyy' format (e.g., '01-Jul-1995').\n",
        "\n",
        "    Returns:\n",
        "        dict: A dictionary mapping each date to its count of unique filenames.\n",
        "              Example: {'01-Jul-1995': 123, '02-Jul-1995': 150}\n",
        "    \"\"\"\n",
        "\n",
        "    # TODO: Implement logic for date-wise unique filename counts\n",
        "    datewise_unique = df.groupby(\"date\")[\"filename\"].nunique()\n",
        "    return datewise_unique.to_dict()  # Placeholder return\n",
        "\n",
        "\n",
        "answer3 = datewise_unique_filename_counts()\n",
        "print(\"Answer 3:\")\n",
        "print(answer3)"
      ]
    },
    {
      "cell_type": "markdown",
      "id": "4d2da36a",
      "metadata": {
        "id": "4d2da36a"
      },
      "source": [
        "### Q4: Number of 404 response codes"
      ]
    },
    {
      "cell_type": "code",
      "execution_count": 77,
      "id": "d0671865",
      "metadata": {
        "id": "d0671865",
        "colab": {
          "base_uri": "https://localhost:8080/"
        },
        "outputId": "b7506221-2775-4e90-9e7a-7a4390a8130c"
      },
      "outputs": [
        {
          "output_type": "stream",
          "name": "stdout",
          "text": [
            "Answer 4:\n",
            "23531\n"
          ]
        }
      ],
      "source": [
        "def count_404_errors() -> int:\n",
        "    \"\"\"\n",
        "    Q4: Number of 404 response codes.\n",
        "\n",
        "    Objective:\n",
        "        Count how many times the HTTP 404 Not Found status appears in the logs.\n",
        "\n",
        "    Returns:\n",
        "        int: Number of 404 errors.\n",
        "    \"\"\"\n",
        "\n",
        "    # TODO: Implement logic to count 404 errors\n",
        "    count_404 = len(df[df['status'] == 404])\n",
        "    return count_404  # Placeholder return\n",
        "\n",
        "\n",
        "answer4 = count_404_errors()\n",
        "print(\"Answer 4:\")\n",
        "print(answer4)"
      ]
    },
    {
      "cell_type": "markdown",
      "id": "c73928d2",
      "metadata": {
        "id": "c73928d2"
      },
      "source": [
        "### Q5: Top 15 filenames with 404 responses"
      ]
    },
    {
      "cell_type": "code",
      "execution_count": null,
      "id": "358f0523",
      "metadata": {
        "id": "358f0523",
        "colab": {
          "base_uri": "https://localhost:8080/"
        },
        "outputId": "cf65aa72-5cc6-4540-972a-6de569e71730"
      },
      "outputs": [
        {
          "output_type": "stream",
          "name": "stdout",
          "text": [
            "Answer 5:\n",
            "[('index.html', 4699), ('4115.html', 900), ('1611.html', 649), ('5698.xbm', 585), ('710.txt', 408), ('2002.html', 258), ('2177.gif', 193), ('10695.ps', 161), ('6555.html', 153), ('487.gif', 152), ('151.html', 149), ('40.html', 148), ('3414.gif', 148), ('488.gif', 148), ('9678.gif', 142)]\n"
          ]
        }
      ],
      "source": [
        "def top_15_filenames_with_404() -> list[tuple[str, int]]:\n",
        "    \"\"\"\n",
        "    Q5: Top 15 filenames with 404 responses.\n",
        "\n",
        "    Objective:\n",
        "        Identify which requested URLs most frequently resulted in a 404 error.\n",
        "        Return the top 15 filenames sorted by frequency.\n",
        "\n",
        "    Returns:\n",
        "        list: A list of tuples (filename, count), sorted by count in descending order.\n",
        "              Example: [('index.html', 200), ...]\n",
        "    \"\"\"\n",
        "\n",
        "\n",
        "    # TODO: Implement logic to find top 15 filenames with 404\n",
        "    top_15_filename = (\n",
        "              df[df['status'] == 404]\n",
        "             .groupby('filename')\n",
        "             .size().reset_index(name='count')\n",
        "             .sort_values('count',ascending=False)\n",
        "             .head(15)\n",
        "              )\n",
        "\n",
        "    return list(zip(top_15_filename[\"filename\"], top_15_filename['count'].astype(int)))  # Placeholder return\n",
        "\n",
        "\n",
        "answer5 = top_15_filenames_with_404()\n",
        "print(\"Answer 5:\")\n",
        "print(answer5)"
      ]
    },
    {
      "cell_type": "markdown",
      "id": "6328c88a",
      "metadata": {
        "id": "6328c88a"
      },
      "source": [
        "### Q6: Top 15 file extension with 404 responses"
      ]
    },
    {
      "cell_type": "code",
      "execution_count": 60,
      "id": "d0aca8cc",
      "metadata": {
        "id": "d0aca8cc",
        "colab": {
          "base_uri": "https://localhost:8080/"
        },
        "outputId": "14720bf0-48f6-4edf-b65b-a35e11a9796e"
      },
      "outputs": [
        {
          "output_type": "stream",
          "name": "stdout",
          "text": [
            "Answer 6:\n",
            "[('html', 12149), ('gif', 7202), ('xbm', 824), ('ps', 757), ('jpg', 520), ('txt', 496), ('GIF', 135), ('htm', 108), ('cgi', 77), ('com', 45), ('Z', 41), ('dvi', 40), ('ca', 37), ('hmtl', 30), ('util', 29)]\n"
          ]
        }
      ],
      "source": [
        "def top_15_ext_with_404() -> list[tuple[str, int]]:\n",
        "    \"\"\"\n",
        "    Q6: Top 15 file extensions with 404 responses.\n",
        "\n",
        "    Objective:\n",
        "        Find which file extensions generated the most 404 errors.\n",
        "        Return the top 15 sorted by number of 404s.\n",
        "\n",
        "    Returns:\n",
        "        list: A list of tuples (extension, count), sorted by count in descending order.\n",
        "              Example: [('html', 45), ...]\n",
        "    \"\"\"\n",
        "\n",
        "    # TODO: Implement logic to find top 15 extensions with 404\n",
        "    top_15_extensions = (\n",
        "        df[(df['status'] == 404) & (df['extension'] !='NA')]\n",
        "        .groupby('extension')\n",
        "        .size()\n",
        "        .reset_index(name='count')\n",
        "        .sort_values('count', ascending=False)\n",
        "        .head(15)\n",
        "    )\n",
        "\n",
        "    return list(zip(top_15_extensions['extension'], top_15_extensions['count'].astype(int)))  # Placeholder return\n",
        "\n",
        "\n",
        "answer6 = top_15_ext_with_404()\n",
        "print(\"Answer 6:\")\n",
        "print(answer6)"
      ]
    },
    {
      "cell_type": "markdown",
      "id": "ff52c8ba",
      "metadata": {
        "id": "ff52c8ba"
      },
      "source": [
        "### Q7: Total bandwidth transferred per day for the month of July 1995"
      ]
    },
    {
      "cell_type": "code",
      "execution_count": 78,
      "id": "45f52d9b",
      "metadata": {
        "id": "45f52d9b",
        "colab": {
          "base_uri": "https://localhost:8080/"
        },
        "outputId": "8db016ac-d7ac-4555-8525-02582f06750e"
      },
      "outputs": [
        {
          "output_type": "stream",
          "name": "stdout",
          "text": [
            "Answer 7:\n",
            "{'01-Jul-1995': 11333976, '02-Jul-1995': 8656012, '03-Jul-1995': 13596612, '04-Jul-1995': 26573988, '05-Jul-1995': 19541225, '06-Jul-1995': 19755015, '07-Jul-1995': 9427822, '08-Jul-1995': 5403491, '09-Jul-1995': 4660556, '10-Jul-1995': 14916848, '11-Jul-1995': 22503471, '12-Jul-1995': 17367065, '13-Jul-1995': 15988328, '14-Jul-1995': 19186430, '15-Jul-1995': 15773233, '16-Jul-1995': 9005564, '17-Jul-1995': 19601338, '18-Jul-1995': 17098855, '19-Jul-1995': 17851725, '20-Jul-1995': 20751717, '21-Jul-1995': 25455607, '22-Jul-1995': 8066660, '23-Jul-1995': 9593870, '24-Jul-1995': 22308265, '25-Jul-1995': 24550821, '26-Jul-1995': 24638042, '27-Jul-1995': 25969995, '28-Jul-1995': 36458881, '29-Jul-1995': 11696365, '30-Jul-1995': 23189598, '31-Jul-1995': 30729809}\n"
          ]
        }
      ],
      "source": [
        "def total_bandwidth_per_day() -> dict[str, int]:\n",
        "    \"\"\"\n",
        "    Q7: Total bandwidth transferred per day for the month of July 1995.\n",
        "\n",
        "    Objective:\n",
        "        Sum the number of bytes transferred per day.\n",
        "        Skip entries where the byte field is missing or '-'.\n",
        "\n",
        "    Returns:\n",
        "        dict: A dictionary mapping each date to total bytes transferred.\n",
        "              Example: {'01-Jul-1995': 123456789, ...}\n",
        "    \"\"\"\n",
        "\n",
        "    # TODO: Implement logic to compute total bandwidth per day\n",
        "    july_df = df[\n",
        "        (df['timestamp'].dt.month==7) &\n",
        "        (df['timestamp'].dt.year == 1995)\n",
        "    ]\n",
        "    total_bandwidth = july_df.groupby('date')['bytes'].sum()\n",
        "    return total_bandwidth.to_dict()  # Placeholder return\n",
        "\n",
        "\n",
        "answer7 = total_bandwidth_per_day()\n",
        "print(\"Answer 7:\")\n",
        "print(answer7)"
      ]
    },
    {
      "cell_type": "markdown",
      "id": "7dc00908",
      "metadata": {
        "id": "7dc00908"
      },
      "source": [
        "### Q8: Hourly request distribution"
      ]
    },
    {
      "cell_type": "code",
      "execution_count": 80,
      "id": "a77f3e12",
      "metadata": {
        "id": "a77f3e12",
        "colab": {
          "base_uri": "https://localhost:8080/"
        },
        "outputId": "b478be4a-a231-4bf9-bccf-b7cfb437d51c"
      },
      "outputs": [
        {
          "output_type": "stream",
          "name": "stdout",
          "text": [
            "Answer 8:\n",
            "{0: 18701, 1: 14372, 2: 12681, 3: 10895, 4: 9964, 5: 10787, 6: 13047, 7: 16659, 8: 26554, 9: 33968, 10: 43348, 11: 47570, 12: 46776, 13: 51405, 14: 54483, 15: 50269, 16: 51138, 17: 45047, 18: 33144, 19: 30546, 20: 29675, 21: 27392, 22: 23812, 23: 21806}\n"
          ]
        }
      ],
      "source": [
        "def hourly_request_distribution() -> dict[int, int]:\n",
        "    \"\"\"\n",
        "    Q8: Hourly request distribution.\n",
        "\n",
        "    Objective:\n",
        "        Count the number of requests made during each hour (00 to 23).\n",
        "        Useful for understanding traffic peaks.\n",
        "\n",
        "    Returns:\n",
        "        dict: A dictionary mapping hour (int) to request count.\n",
        "              Example: {0: 120, 1: 90, ..., 23: 80}\n",
        "    \"\"\"\n",
        "\n",
        "    # TODO: Implement logic for hourly distribution\n",
        "    hourly_distribution = df.groupby(df['timestamp'].dt.hour).size()\n",
        "    return hourly_distribution.to_dict()  # Placeholder return\n",
        "\n",
        "\n",
        "answer8 = hourly_request_distribution()\n",
        "print(\"Answer 8:\")\n",
        "print(answer8)"
      ]
    },
    {
      "cell_type": "markdown",
      "id": "363b7083",
      "metadata": {
        "id": "363b7083"
      },
      "source": [
        "### Q9: Top 10 most requested filenames"
      ]
    },
    {
      "cell_type": "code",
      "execution_count": 82,
      "id": "91168ad7",
      "metadata": {
        "id": "91168ad7",
        "colab": {
          "base_uri": "https://localhost:8080/"
        },
        "outputId": "b580d692-d632-415c-e6c2-0a35290fa0a2"
      },
      "outputs": [
        {
          "output_type": "stream",
          "name": "stdout",
          "text": [
            "Answer 9:\n",
            "[('index.html', 139961), ('3.gif', 24006), ('2.gif', 23606), ('4.gif', 8018), ('244.gif', 5148), ('5.html', 5009), ('4097.gif', 4874), ('8870.jpg', 4492), ('6733.gif', 4278), ('8472.gif', 3843)]\n"
          ]
        }
      ],
      "source": [
        "def top_10_most_requested_filenames() -> list[tuple[str, int]]:\n",
        "    \"\"\"\n",
        "    Q9: Top 10 most requested filenames.\n",
        "\n",
        "    Objective:\n",
        "        Identify the most commonly requested URLs (irrespective of status code).\n",
        "\n",
        "    Returns:\n",
        "        list: A list of tuples (filename, count), sorted by count in descending order.\n",
        "                Example: [('index.html', 500), ...]\n",
        "    \"\"\"\n",
        "\n",
        "    # TODO: Implement logic to find top 10 most requested filenames\n",
        "    top_10_filenames = (\n",
        "        df.groupby('filename')\n",
        "        .size()\n",
        "        .reset_index(name='count')\n",
        "        .sort_values('count', ascending=False)\n",
        "        .head(10)\n",
        "    )\n",
        "    return list(zip(top_10_filenames['filename'],top_10_filenames['count'].astype(int)))  # Placeholder return\n",
        "\n",
        "\n",
        "answer9 = top_10_most_requested_filenames()\n",
        "print(\"Answer 9:\")\n",
        "print(answer9)"
      ]
    },
    {
      "cell_type": "markdown",
      "id": "eedb4778",
      "metadata": {
        "id": "eedb4778"
      },
      "source": [
        "### Q10: HTTP response code distribution"
      ]
    },
    {
      "cell_type": "code",
      "execution_count": 83,
      "id": "bd4453ed",
      "metadata": {
        "id": "bd4453ed",
        "colab": {
          "base_uri": "https://localhost:8080/"
        },
        "outputId": "4b7a4309-2c5c-4353-af48-277b9a3b7faf"
      },
      "outputs": [
        {
          "output_type": "stream",
          "name": "stdout",
          "text": [
            "Answer 10:\n",
            "{200: 567554, 302: 30275, 304: 97792, 400: 13, 401: 46, 403: 4743, 404: 23531, 500: 42, 501: 43}\n"
          ]
        }
      ],
      "source": [
        "def response_code_distribution() -> dict[int, int]:\n",
        "    \"\"\"\n",
        "    Q10: HTTP response code distribution.\n",
        "\n",
        "    Objective:\n",
        "        Count how often each HTTP status code appears in the logs.\n",
        "\n",
        "    Returns:\n",
        "        dict: A dictionary mapping HTTP status codes (as int) to their frequency.\n",
        "              Example: {200: 150000, 404: 3000}\n",
        "    \"\"\"\n",
        "\n",
        "    # TODO: Implement logic for response code counts\n",
        "    code_distribution = df.groupby('status').size()\n",
        "    return code_distribution.to_dict()  # Placeholder return\n",
        "\n",
        "\n",
        "answer10 = response_code_distribution()\n",
        "print(\"Answer 10:\")\n",
        "print(answer10)"
      ]
    }
  ],
  "metadata": {
    "kernelspec": {
      "display_name": "poetry-x2j_aZzr-py3.12",
      "language": "python",
      "name": "python3"
    },
    "language_info": {
      "name": "python",
      "version": "3.12.9"
    },
    "colab": {
      "provenance": []
    }
  },
  "nbformat": 4,
  "nbformat_minor": 5
}